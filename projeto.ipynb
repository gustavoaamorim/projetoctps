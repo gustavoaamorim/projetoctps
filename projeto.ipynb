{
 "cells": [
  {
   "cell_type": "markdown",
   "metadata": {},
   "source": [
    "# EDA Emissões de CTPS no Brasil em 2020"
   ]
  },
  {
   "cell_type": "markdown",
   "metadata": {},
   "source": [
    "### Objetivo\n",
    "Esta análise tem por objetivo identificar padrões e informações relevantes a respeito das emissões de Carteira de Trabalho e Previdência Social emitidas no Brasil no ano de 2020 como trabalho de conclusão do módulo de Estatística I da formação Vem Ser Tech - Ada & Ifood.\n",
    "Realizaremos além da análise exploratória o processo de extração e transformação dos dados para normalização do conjunto de dados."
   ]
  },
  {
   "cell_type": "markdown",
   "metadata": {},
   "source": [
    "### Sobre os Dados\n",
    "A base de dados selecionada é composta pelas Carteiras de Trabalho e Previdência Social (CTPS) emitidas no país em 2020. Essas carteiras contêm informações sobre as vias de emissão, datas de emissão, localidades e dados dos solicitantes, como idade, localidade, escolaridade, raça, estado civil e tipo de cidadania.\n",
    "\n",
    "Com base nesses dados, é possível analisar diversos aspectos relacionados à força de trabalho durante esse período. Além disso, podemos investigar relações entre raça, sexo e outros fatores relevantes. Essa análise pode fornecer insights valiosos para políticas públicas, estratégias de emprego e igualdade de oportunidades."
   ]
  },
  {
   "cell_type": "markdown",
   "metadata": {},
   "source": [
    "### Perguntas a serem respondidas\n",
    "- Quantas carteiras foram emitidas no ano de 2020?\n",
    "- Quais os estados com maior número de emissão de carteiras?\n",
    "- Quais os meses com maior número de emissão de carteiras?\n",
    "- Qual o perfil das pessoas que solicitaram Carteira do Trabalho e Previdência Social no ano de 2020?"
   ]
  },
  {
   "cell_type": "markdown",
   "metadata": {},
   "source": [
    "## Extração e Transformação e Carregamento - ETL"
   ]
  },
  {
   "cell_type": "markdown",
   "metadata": {},
   "source": [
    "#### Importando Bibliotecas Utilizadas"
   ]
  },
  {
   "cell_type": "code",
   "execution_count": 1,
   "metadata": {},
   "outputs": [],
   "source": [
    "\n",
    "import pandas as pd\n",
    "import numpy as np\n",
    "import datetime as datatoday\n",
    "from unidecode import unidecode\n",
    "from datetime import datetime\n",
    "import matplotlib.pyplot as plt"
   ]
  },
  {
   "cell_type": "markdown",
   "metadata": {},
   "source": [
    "#### Extraindo os Dados"
   ]
  },
  {
   "cell_type": "code",
   "execution_count": 2,
   "metadata": {},
   "outputs": [
    {
     "data": {
      "text/html": [
       "<div>\n",
       "<style scoped>\n",
       "    .dataframe tbody tr th:only-of-type {\n",
       "        vertical-align: middle;\n",
       "    }\n",
       "\n",
       "    .dataframe tbody tr th {\n",
       "        vertical-align: top;\n",
       "    }\n",
       "\n",
       "    .dataframe thead th {\n",
       "        text-align: right;\n",
       "    }\n",
       "</style>\n",
       "<table border=\"1\" class=\"dataframe\">\n",
       "  <thead>\n",
       "    <tr style=\"text-align: right;\">\n",
       "      <th></th>\n",
       "      <th>Tipo Protocolo</th>\n",
       "      <th>Nome Município Órgão</th>\n",
       "      <th>Sigla UF Órgão</th>\n",
       "      <th>Data Emissão</th>\n",
       "      <th>Sexo</th>\n",
       "      <th>Nível Escolaridade</th>\n",
       "      <th>Raça e Cor</th>\n",
       "      <th>Estado Civil</th>\n",
       "      <th>Data Nascimento</th>\n",
       "      <th>Tipo Cidadania</th>\n",
       "      <th>Nome Município Nascimento</th>\n",
       "      <th>Sigla UF Nascimento</th>\n",
       "    </tr>\n",
       "  </thead>\n",
       "  <tbody>\n",
       "    <tr>\n",
       "      <th>0</th>\n",
       "      <td>1ª Via</td>\n",
       "      <td>TERESINA</td>\n",
       "      <td>PI</td>\n",
       "      <td>17/01/2020</td>\n",
       "      <td>FEMININO</td>\n",
       "      <td>SUPERIOR COMPL. OU HABILIT. LEGAL EQUIV.</td>\n",
       "      <td>Pardo</td>\n",
       "      <td>SOLTEIRO</td>\n",
       "      <td>07/05/1985</td>\n",
       "      <td>Brasileiro Nato</td>\n",
       "      <td>ALTOS</td>\n",
       "      <td>PI</td>\n",
       "    </tr>\n",
       "    <tr>\n",
       "      <th>1</th>\n",
       "      <td>1ª Via</td>\n",
       "      <td>TUNTUM</td>\n",
       "      <td>MA</td>\n",
       "      <td>07/02/2020</td>\n",
       "      <td>FEMININO</td>\n",
       "      <td>2º GRAU INCOMPLETO</td>\n",
       "      <td>Pardo</td>\n",
       "      <td>CASADO</td>\n",
       "      <td>01/08/1994</td>\n",
       "      <td>Brasileiro Nato</td>\n",
       "      <td>GONCALVES DIAS</td>\n",
       "      <td>MA</td>\n",
       "    </tr>\n",
       "    <tr>\n",
       "      <th>2</th>\n",
       "      <td>1ª Via</td>\n",
       "      <td>BELEM</td>\n",
       "      <td>PA</td>\n",
       "      <td>04/02/2020</td>\n",
       "      <td>FEMININO</td>\n",
       "      <td>2º GRAU COMPLETO OU TEC. PROFISSIONAL</td>\n",
       "      <td>Pardo</td>\n",
       "      <td>SOLTEIRO</td>\n",
       "      <td>23/03/1975</td>\n",
       "      <td>Brasileiro Nato</td>\n",
       "      <td>MARABA</td>\n",
       "      <td>PA</td>\n",
       "    </tr>\n",
       "    <tr>\n",
       "      <th>3</th>\n",
       "      <td>2ª Via</td>\n",
       "      <td>VITORIA DA CONQUISTA</td>\n",
       "      <td>BA</td>\n",
       "      <td>03/03/2020</td>\n",
       "      <td>MASCULINO</td>\n",
       "      <td>2º GRAU COMPLETO OU TEC. PROFISSIONAL</td>\n",
       "      <td>Pardo</td>\n",
       "      <td>CASADO</td>\n",
       "      <td>04/09/1986</td>\n",
       "      <td>Brasileiro Nato</td>\n",
       "      <td>CONDEUBA</td>\n",
       "      <td>BA</td>\n",
       "    </tr>\n",
       "    <tr>\n",
       "      <th>4</th>\n",
       "      <td>2ª Via</td>\n",
       "      <td>CORUMBIARA</td>\n",
       "      <td>RO</td>\n",
       "      <td>30/01/2020</td>\n",
       "      <td>FEMININO</td>\n",
       "      <td>2º GRAU COMPLETO OU TEC. PROFISSIONAL</td>\n",
       "      <td>Branco</td>\n",
       "      <td>SEPARADO J</td>\n",
       "      <td>21/10/1984</td>\n",
       "      <td>Brasileiro Nato</td>\n",
       "      <td>BETIM</td>\n",
       "      <td>MG</td>\n",
       "    </tr>\n",
       "    <tr>\n",
       "      <th>...</th>\n",
       "      <td>...</td>\n",
       "      <td>...</td>\n",
       "      <td>...</td>\n",
       "      <td>...</td>\n",
       "      <td>...</td>\n",
       "      <td>...</td>\n",
       "      <td>...</td>\n",
       "      <td>...</td>\n",
       "      <td>...</td>\n",
       "      <td>...</td>\n",
       "      <td>...</td>\n",
       "      <td>...</td>\n",
       "    </tr>\n",
       "    <tr>\n",
       "      <th>463933</th>\n",
       "      <td>1ª Via</td>\n",
       "      <td>MARTINOPOLIS</td>\n",
       "      <td>SP</td>\n",
       "      <td>30/12/2020</td>\n",
       "      <td>FEMININO</td>\n",
       "      <td>2º GRAU COMPLETO OU TEC. PROFISSIONAL</td>\n",
       "      <td>Pardo</td>\n",
       "      <td>SOLTEIRO</td>\n",
       "      <td>07/01/2003</td>\n",
       "      <td>Brasileiro Nato</td>\n",
       "      <td>MARTINOPOLIS</td>\n",
       "      <td>SP</td>\n",
       "    </tr>\n",
       "    <tr>\n",
       "      <th>463934</th>\n",
       "      <td>1ª Via</td>\n",
       "      <td>MARTINOPOLIS</td>\n",
       "      <td>SP</td>\n",
       "      <td>30/12/2020</td>\n",
       "      <td>MASCULINO</td>\n",
       "      <td>2º GRAU COMPLETO OU TEC. PROFISSIONAL</td>\n",
       "      <td>Branco</td>\n",
       "      <td>SOLTEIRO</td>\n",
       "      <td>28/01/2002</td>\n",
       "      <td>Brasileiro Nato</td>\n",
       "      <td>MARTINOPOLIS</td>\n",
       "      <td>SP</td>\n",
       "    </tr>\n",
       "    <tr>\n",
       "      <th>463935</th>\n",
       "      <td>1ª Via</td>\n",
       "      <td>MARTINOPOLIS</td>\n",
       "      <td>SP</td>\n",
       "      <td>30/12/2020</td>\n",
       "      <td>FEMININO</td>\n",
       "      <td>2º GRAU COMPLETO OU TEC. PROFISSIONAL</td>\n",
       "      <td>Branco</td>\n",
       "      <td>SOLTEIRO</td>\n",
       "      <td>07/11/2001</td>\n",
       "      <td>Brasileiro Nato</td>\n",
       "      <td>MARTINOPOLIS</td>\n",
       "      <td>SP</td>\n",
       "    </tr>\n",
       "    <tr>\n",
       "      <th>463936</th>\n",
       "      <td>2ª Via</td>\n",
       "      <td>BRUSQUE</td>\n",
       "      <td>SC</td>\n",
       "      <td>14/12/2020</td>\n",
       "      <td>FEMININO</td>\n",
       "      <td>2º GRAU COMPLETO OU TEC. PROFISSIONAL</td>\n",
       "      <td>Branco</td>\n",
       "      <td>SOLTEIRO</td>\n",
       "      <td>20/12/1987</td>\n",
       "      <td>Brasileiro Nato</td>\n",
       "      <td>LAGES</td>\n",
       "      <td>SC</td>\n",
       "    </tr>\n",
       "    <tr>\n",
       "      <th>463937</th>\n",
       "      <td>2ª Via</td>\n",
       "      <td>BRUSQUE</td>\n",
       "      <td>SC</td>\n",
       "      <td>14/12/2020</td>\n",
       "      <td>FEMININO</td>\n",
       "      <td>2º GRAU COMPLETO OU TEC. PROFISSIONAL</td>\n",
       "      <td>Pardo</td>\n",
       "      <td>CASADO</td>\n",
       "      <td>02/05/1982</td>\n",
       "      <td>Brasileiro Nato</td>\n",
       "      <td>BELEM</td>\n",
       "      <td>PA</td>\n",
       "    </tr>\n",
       "  </tbody>\n",
       "</table>\n",
       "<p>463938 rows × 12 columns</p>\n",
       "</div>"
      ],
      "text/plain": [
       "       Tipo Protocolo  Nome Município Órgão Sigla UF Órgão Data Emissão  \\\n",
       "0              1ª Via              TERESINA             PI   17/01/2020   \n",
       "1              1ª Via                TUNTUM             MA   07/02/2020   \n",
       "2              1ª Via                 BELEM             PA   04/02/2020   \n",
       "3              2ª Via  VITORIA DA CONQUISTA             BA   03/03/2020   \n",
       "4              2ª Via            CORUMBIARA             RO   30/01/2020   \n",
       "...               ...                   ...            ...          ...   \n",
       "463933         1ª Via          MARTINOPOLIS             SP   30/12/2020   \n",
       "463934         1ª Via          MARTINOPOLIS             SP   30/12/2020   \n",
       "463935         1ª Via          MARTINOPOLIS             SP   30/12/2020   \n",
       "463936         2ª Via               BRUSQUE             SC   14/12/2020   \n",
       "463937         2ª Via               BRUSQUE             SC   14/12/2020   \n",
       "\n",
       "             Sexo                        Nível Escolaridade Raça e Cor  \\\n",
       "0        FEMININO  SUPERIOR COMPL. OU HABILIT. LEGAL EQUIV.      Pardo   \n",
       "1        FEMININO                        2º GRAU INCOMPLETO      Pardo   \n",
       "2        FEMININO     2º GRAU COMPLETO OU TEC. PROFISSIONAL      Pardo   \n",
       "3       MASCULINO     2º GRAU COMPLETO OU TEC. PROFISSIONAL      Pardo   \n",
       "4        FEMININO     2º GRAU COMPLETO OU TEC. PROFISSIONAL     Branco   \n",
       "...           ...                                       ...        ...   \n",
       "463933   FEMININO     2º GRAU COMPLETO OU TEC. PROFISSIONAL      Pardo   \n",
       "463934  MASCULINO     2º GRAU COMPLETO OU TEC. PROFISSIONAL     Branco   \n",
       "463935   FEMININO     2º GRAU COMPLETO OU TEC. PROFISSIONAL     Branco   \n",
       "463936   FEMININO     2º GRAU COMPLETO OU TEC. PROFISSIONAL     Branco   \n",
       "463937   FEMININO     2º GRAU COMPLETO OU TEC. PROFISSIONAL      Pardo   \n",
       "\n",
       "       Estado Civil Data Nascimento   Tipo Cidadania  \\\n",
       "0          SOLTEIRO      07/05/1985  Brasileiro Nato   \n",
       "1            CASADO      01/08/1994  Brasileiro Nato   \n",
       "2          SOLTEIRO      23/03/1975  Brasileiro Nato   \n",
       "3            CASADO      04/09/1986  Brasileiro Nato   \n",
       "4        SEPARADO J      21/10/1984  Brasileiro Nato   \n",
       "...             ...             ...              ...   \n",
       "463933     SOLTEIRO      07/01/2003  Brasileiro Nato   \n",
       "463934     SOLTEIRO      28/01/2002  Brasileiro Nato   \n",
       "463935     SOLTEIRO      07/11/2001  Brasileiro Nato   \n",
       "463936     SOLTEIRO      20/12/1987  Brasileiro Nato   \n",
       "463937       CASADO      02/05/1982  Brasileiro Nato   \n",
       "\n",
       "       Nome Município Nascimento Sigla UF Nascimento  \n",
       "0                          ALTOS                  PI  \n",
       "1                 GONCALVES DIAS                  MA  \n",
       "2                         MARABA                  PA  \n",
       "3                       CONDEUBA                  BA  \n",
       "4                          BETIM                  MG  \n",
       "...                          ...                 ...  \n",
       "463933              MARTINOPOLIS                  SP  \n",
       "463934              MARTINOPOLIS                  SP  \n",
       "463935              MARTINOPOLIS                  SP  \n",
       "463936                     LAGES                  SC  \n",
       "463937                     BELEM                  PA  \n",
       "\n",
       "[463938 rows x 12 columns]"
      ]
     },
     "metadata": {},
     "output_type": "display_data"
    }
   ],
   "source": [
    "df=pd.read_csv('basectps_inicial.csv',delimiter=\";\")\n",
    "display(df)"
   ]
  },
  {
   "cell_type": "markdown",
   "metadata": {},
   "source": [
    "#### Transformação dos Dados"
   ]
  },
  {
   "cell_type": "markdown",
   "metadata": {},
   "source": [
    "Primeiro vamos verificar os tipos de dados e colunas disponíveis no dataframe usando o dtypes."
   ]
  },
  {
   "cell_type": "code",
   "execution_count": 3,
   "metadata": {},
   "outputs": [
    {
     "data": {
      "text/plain": [
       "Tipo Protocolo               object\n",
       "Nome Município Órgão         object\n",
       "Sigla UF Órgão               object\n",
       "Data Emissão                 object\n",
       "Sexo                         object\n",
       "Nível Escolaridade           object\n",
       "Raça e Cor                   object\n",
       "Estado Civil                 object\n",
       "Data Nascimento              object\n",
       "Tipo Cidadania               object\n",
       "Nome Município Nascimento    object\n",
       "Sigla UF Nascimento          object\n",
       "dtype: object"
      ]
     },
     "execution_count": 3,
     "metadata": {},
     "output_type": "execute_result"
    }
   ],
   "source": [
    "df.dtypes"
   ]
  },
  {
   "cell_type": "markdown",
   "metadata": {},
   "source": [
    "Para melhor visualização dos dados iremos aplicar uma transformação nos nomes das colunas removendo espaços, alterando todas as letras para minúsculas e removendo acentos."
   ]
  },
  {
   "cell_type": "code",
   "execution_count": 4,
   "metadata": {},
   "outputs": [
    {
     "data": {
      "text/html": [
       "<div>\n",
       "<style scoped>\n",
       "    .dataframe tbody tr th:only-of-type {\n",
       "        vertical-align: middle;\n",
       "    }\n",
       "\n",
       "    .dataframe tbody tr th {\n",
       "        vertical-align: top;\n",
       "    }\n",
       "\n",
       "    .dataframe thead th {\n",
       "        text-align: right;\n",
       "    }\n",
       "</style>\n",
       "<table border=\"1\" class=\"dataframe\">\n",
       "  <thead>\n",
       "    <tr style=\"text-align: right;\">\n",
       "      <th></th>\n",
       "      <th>tipo_protocolo</th>\n",
       "      <th>nome_municipio_orgao</th>\n",
       "      <th>sigla_uf_orgao</th>\n",
       "      <th>data_emissao</th>\n",
       "      <th>sexo</th>\n",
       "      <th>nivel_escolaridade</th>\n",
       "      <th>raca_e_cor</th>\n",
       "      <th>estado_civil</th>\n",
       "      <th>data_nascimento</th>\n",
       "      <th>tipo_cidadania</th>\n",
       "      <th>nome_municipio_nascimento</th>\n",
       "      <th>sigla_uf_nascimento</th>\n",
       "    </tr>\n",
       "  </thead>\n",
       "  <tbody>\n",
       "    <tr>\n",
       "      <th>0</th>\n",
       "      <td>1ª Via</td>\n",
       "      <td>TERESINA</td>\n",
       "      <td>PI</td>\n",
       "      <td>17/01/2020</td>\n",
       "      <td>FEMININO</td>\n",
       "      <td>SUPERIOR COMPL. OU HABILIT. LEGAL EQUIV.</td>\n",
       "      <td>Pardo</td>\n",
       "      <td>SOLTEIRO</td>\n",
       "      <td>07/05/1985</td>\n",
       "      <td>Brasileiro Nato</td>\n",
       "      <td>ALTOS</td>\n",
       "      <td>PI</td>\n",
       "    </tr>\n",
       "    <tr>\n",
       "      <th>1</th>\n",
       "      <td>1ª Via</td>\n",
       "      <td>TUNTUM</td>\n",
       "      <td>MA</td>\n",
       "      <td>07/02/2020</td>\n",
       "      <td>FEMININO</td>\n",
       "      <td>2º GRAU INCOMPLETO</td>\n",
       "      <td>Pardo</td>\n",
       "      <td>CASADO</td>\n",
       "      <td>01/08/1994</td>\n",
       "      <td>Brasileiro Nato</td>\n",
       "      <td>GONCALVES DIAS</td>\n",
       "      <td>MA</td>\n",
       "    </tr>\n",
       "    <tr>\n",
       "      <th>2</th>\n",
       "      <td>1ª Via</td>\n",
       "      <td>BELEM</td>\n",
       "      <td>PA</td>\n",
       "      <td>04/02/2020</td>\n",
       "      <td>FEMININO</td>\n",
       "      <td>2º GRAU COMPLETO OU TEC. PROFISSIONAL</td>\n",
       "      <td>Pardo</td>\n",
       "      <td>SOLTEIRO</td>\n",
       "      <td>23/03/1975</td>\n",
       "      <td>Brasileiro Nato</td>\n",
       "      <td>MARABA</td>\n",
       "      <td>PA</td>\n",
       "    </tr>\n",
       "    <tr>\n",
       "      <th>3</th>\n",
       "      <td>2ª Via</td>\n",
       "      <td>VITORIA DA CONQUISTA</td>\n",
       "      <td>BA</td>\n",
       "      <td>03/03/2020</td>\n",
       "      <td>MASCULINO</td>\n",
       "      <td>2º GRAU COMPLETO OU TEC. PROFISSIONAL</td>\n",
       "      <td>Pardo</td>\n",
       "      <td>CASADO</td>\n",
       "      <td>04/09/1986</td>\n",
       "      <td>Brasileiro Nato</td>\n",
       "      <td>CONDEUBA</td>\n",
       "      <td>BA</td>\n",
       "    </tr>\n",
       "    <tr>\n",
       "      <th>4</th>\n",
       "      <td>2ª Via</td>\n",
       "      <td>CORUMBIARA</td>\n",
       "      <td>RO</td>\n",
       "      <td>30/01/2020</td>\n",
       "      <td>FEMININO</td>\n",
       "      <td>2º GRAU COMPLETO OU TEC. PROFISSIONAL</td>\n",
       "      <td>Branco</td>\n",
       "      <td>SEPARADO J</td>\n",
       "      <td>21/10/1984</td>\n",
       "      <td>Brasileiro Nato</td>\n",
       "      <td>BETIM</td>\n",
       "      <td>MG</td>\n",
       "    </tr>\n",
       "    <tr>\n",
       "      <th>...</th>\n",
       "      <td>...</td>\n",
       "      <td>...</td>\n",
       "      <td>...</td>\n",
       "      <td>...</td>\n",
       "      <td>...</td>\n",
       "      <td>...</td>\n",
       "      <td>...</td>\n",
       "      <td>...</td>\n",
       "      <td>...</td>\n",
       "      <td>...</td>\n",
       "      <td>...</td>\n",
       "      <td>...</td>\n",
       "    </tr>\n",
       "    <tr>\n",
       "      <th>463933</th>\n",
       "      <td>1ª Via</td>\n",
       "      <td>MARTINOPOLIS</td>\n",
       "      <td>SP</td>\n",
       "      <td>30/12/2020</td>\n",
       "      <td>FEMININO</td>\n",
       "      <td>2º GRAU COMPLETO OU TEC. PROFISSIONAL</td>\n",
       "      <td>Pardo</td>\n",
       "      <td>SOLTEIRO</td>\n",
       "      <td>07/01/2003</td>\n",
       "      <td>Brasileiro Nato</td>\n",
       "      <td>MARTINOPOLIS</td>\n",
       "      <td>SP</td>\n",
       "    </tr>\n",
       "    <tr>\n",
       "      <th>463934</th>\n",
       "      <td>1ª Via</td>\n",
       "      <td>MARTINOPOLIS</td>\n",
       "      <td>SP</td>\n",
       "      <td>30/12/2020</td>\n",
       "      <td>MASCULINO</td>\n",
       "      <td>2º GRAU COMPLETO OU TEC. PROFISSIONAL</td>\n",
       "      <td>Branco</td>\n",
       "      <td>SOLTEIRO</td>\n",
       "      <td>28/01/2002</td>\n",
       "      <td>Brasileiro Nato</td>\n",
       "      <td>MARTINOPOLIS</td>\n",
       "      <td>SP</td>\n",
       "    </tr>\n",
       "    <tr>\n",
       "      <th>463935</th>\n",
       "      <td>1ª Via</td>\n",
       "      <td>MARTINOPOLIS</td>\n",
       "      <td>SP</td>\n",
       "      <td>30/12/2020</td>\n",
       "      <td>FEMININO</td>\n",
       "      <td>2º GRAU COMPLETO OU TEC. PROFISSIONAL</td>\n",
       "      <td>Branco</td>\n",
       "      <td>SOLTEIRO</td>\n",
       "      <td>07/11/2001</td>\n",
       "      <td>Brasileiro Nato</td>\n",
       "      <td>MARTINOPOLIS</td>\n",
       "      <td>SP</td>\n",
       "    </tr>\n",
       "    <tr>\n",
       "      <th>463936</th>\n",
       "      <td>2ª Via</td>\n",
       "      <td>BRUSQUE</td>\n",
       "      <td>SC</td>\n",
       "      <td>14/12/2020</td>\n",
       "      <td>FEMININO</td>\n",
       "      <td>2º GRAU COMPLETO OU TEC. PROFISSIONAL</td>\n",
       "      <td>Branco</td>\n",
       "      <td>SOLTEIRO</td>\n",
       "      <td>20/12/1987</td>\n",
       "      <td>Brasileiro Nato</td>\n",
       "      <td>LAGES</td>\n",
       "      <td>SC</td>\n",
       "    </tr>\n",
       "    <tr>\n",
       "      <th>463937</th>\n",
       "      <td>2ª Via</td>\n",
       "      <td>BRUSQUE</td>\n",
       "      <td>SC</td>\n",
       "      <td>14/12/2020</td>\n",
       "      <td>FEMININO</td>\n",
       "      <td>2º GRAU COMPLETO OU TEC. PROFISSIONAL</td>\n",
       "      <td>Pardo</td>\n",
       "      <td>CASADO</td>\n",
       "      <td>02/05/1982</td>\n",
       "      <td>Brasileiro Nato</td>\n",
       "      <td>BELEM</td>\n",
       "      <td>PA</td>\n",
       "    </tr>\n",
       "  </tbody>\n",
       "</table>\n",
       "<p>463938 rows × 12 columns</p>\n",
       "</div>"
      ],
      "text/plain": [
       "       tipo_protocolo  nome_municipio_orgao sigla_uf_orgao data_emissao  \\\n",
       "0              1ª Via              TERESINA             PI   17/01/2020   \n",
       "1              1ª Via                TUNTUM             MA   07/02/2020   \n",
       "2              1ª Via                 BELEM             PA   04/02/2020   \n",
       "3              2ª Via  VITORIA DA CONQUISTA             BA   03/03/2020   \n",
       "4              2ª Via            CORUMBIARA             RO   30/01/2020   \n",
       "...               ...                   ...            ...          ...   \n",
       "463933         1ª Via          MARTINOPOLIS             SP   30/12/2020   \n",
       "463934         1ª Via          MARTINOPOLIS             SP   30/12/2020   \n",
       "463935         1ª Via          MARTINOPOLIS             SP   30/12/2020   \n",
       "463936         2ª Via               BRUSQUE             SC   14/12/2020   \n",
       "463937         2ª Via               BRUSQUE             SC   14/12/2020   \n",
       "\n",
       "             sexo                        nivel_escolaridade raca_e_cor  \\\n",
       "0        FEMININO  SUPERIOR COMPL. OU HABILIT. LEGAL EQUIV.      Pardo   \n",
       "1        FEMININO                        2º GRAU INCOMPLETO      Pardo   \n",
       "2        FEMININO     2º GRAU COMPLETO OU TEC. PROFISSIONAL      Pardo   \n",
       "3       MASCULINO     2º GRAU COMPLETO OU TEC. PROFISSIONAL      Pardo   \n",
       "4        FEMININO     2º GRAU COMPLETO OU TEC. PROFISSIONAL     Branco   \n",
       "...           ...                                       ...        ...   \n",
       "463933   FEMININO     2º GRAU COMPLETO OU TEC. PROFISSIONAL      Pardo   \n",
       "463934  MASCULINO     2º GRAU COMPLETO OU TEC. PROFISSIONAL     Branco   \n",
       "463935   FEMININO     2º GRAU COMPLETO OU TEC. PROFISSIONAL     Branco   \n",
       "463936   FEMININO     2º GRAU COMPLETO OU TEC. PROFISSIONAL     Branco   \n",
       "463937   FEMININO     2º GRAU COMPLETO OU TEC. PROFISSIONAL      Pardo   \n",
       "\n",
       "       estado_civil data_nascimento   tipo_cidadania  \\\n",
       "0          SOLTEIRO      07/05/1985  Brasileiro Nato   \n",
       "1            CASADO      01/08/1994  Brasileiro Nato   \n",
       "2          SOLTEIRO      23/03/1975  Brasileiro Nato   \n",
       "3            CASADO      04/09/1986  Brasileiro Nato   \n",
       "4        SEPARADO J      21/10/1984  Brasileiro Nato   \n",
       "...             ...             ...              ...   \n",
       "463933     SOLTEIRO      07/01/2003  Brasileiro Nato   \n",
       "463934     SOLTEIRO      28/01/2002  Brasileiro Nato   \n",
       "463935     SOLTEIRO      07/11/2001  Brasileiro Nato   \n",
       "463936     SOLTEIRO      20/12/1987  Brasileiro Nato   \n",
       "463937       CASADO      02/05/1982  Brasileiro Nato   \n",
       "\n",
       "       nome_municipio_nascimento sigla_uf_nascimento  \n",
       "0                          ALTOS                  PI  \n",
       "1                 GONCALVES DIAS                  MA  \n",
       "2                         MARABA                  PA  \n",
       "3                       CONDEUBA                  BA  \n",
       "4                          BETIM                  MG  \n",
       "...                          ...                 ...  \n",
       "463933              MARTINOPOLIS                  SP  \n",
       "463934              MARTINOPOLIS                  SP  \n",
       "463935              MARTINOPOLIS                  SP  \n",
       "463936                     LAGES                  SC  \n",
       "463937                     BELEM                  PA  \n",
       "\n",
       "[463938 rows x 12 columns]"
      ]
     },
     "metadata": {},
     "output_type": "display_data"
    }
   ],
   "source": [
    "colunas = [\"Tipo Protocolo\", \"Nome Município Órgão\", \"Sigla UF Órgão\", \"Data Emissão\", \"Sexo\", \"Nível Escolaridade\", \"Raça e Cor\", \"Estado Civil\", \"Data Nascimento\", \"Tipo Cidadania\", \"Nome Município Nascimento\", \"Sigla UF Nascimento\"]\n",
    "\n",
    "df.columns = [unidecode(coluna).replace(\" \", \"_\").lower() for coluna in colunas]\n",
    "\n",
    "display(df)"
   ]
  },
  {
   "cell_type": "markdown",
   "metadata": {},
   "source": [
    "Para melhorar a leitura e entendimento dos dados iremos renomear as colunas dos municípios e estados de emissão e nascimento."
   ]
  },
  {
   "cell_type": "code",
   "execution_count": 5,
   "metadata": {},
   "outputs": [],
   "source": [
    "df.rename(columns={'nome_municipio_orgao':'municipio_emissao',\n",
    "                    'sigla_uf_orgao':'uf_emissao',\n",
    "                    'nome_municipio_nascimento':'municipio_nascimento',\n",
    "                    'sigla_uf_nascimento':'uf_nascimento'}, inplace=True)"
   ]
  },
  {
   "cell_type": "code",
   "execution_count": 6,
   "metadata": {},
   "outputs": [
    {
     "data": {
      "text/html": [
       "<div>\n",
       "<style scoped>\n",
       "    .dataframe tbody tr th:only-of-type {\n",
       "        vertical-align: middle;\n",
       "    }\n",
       "\n",
       "    .dataframe tbody tr th {\n",
       "        vertical-align: top;\n",
       "    }\n",
       "\n",
       "    .dataframe thead th {\n",
       "        text-align: right;\n",
       "    }\n",
       "</style>\n",
       "<table border=\"1\" class=\"dataframe\">\n",
       "  <thead>\n",
       "    <tr style=\"text-align: right;\">\n",
       "      <th></th>\n",
       "      <th>tipo_protocolo</th>\n",
       "      <th>municipio_emissao</th>\n",
       "      <th>uf_emissao</th>\n",
       "      <th>data_emissao</th>\n",
       "      <th>sexo</th>\n",
       "      <th>nivel_escolaridade</th>\n",
       "      <th>raca_e_cor</th>\n",
       "      <th>estado_civil</th>\n",
       "      <th>data_nascimento</th>\n",
       "      <th>tipo_cidadania</th>\n",
       "      <th>municipio_nascimento</th>\n",
       "      <th>uf_nascimento</th>\n",
       "    </tr>\n",
       "  </thead>\n",
       "  <tbody>\n",
       "    <tr>\n",
       "      <th>0</th>\n",
       "      <td>1ª Via</td>\n",
       "      <td>TERESINA</td>\n",
       "      <td>PI</td>\n",
       "      <td>17/01/2020</td>\n",
       "      <td>FEMININO</td>\n",
       "      <td>SUPERIOR COMPL. OU HABILIT. LEGAL EQUIV.</td>\n",
       "      <td>Pardo</td>\n",
       "      <td>SOLTEIRO</td>\n",
       "      <td>07/05/1985</td>\n",
       "      <td>Brasileiro Nato</td>\n",
       "      <td>ALTOS</td>\n",
       "      <td>PI</td>\n",
       "    </tr>\n",
       "    <tr>\n",
       "      <th>1</th>\n",
       "      <td>1ª Via</td>\n",
       "      <td>TUNTUM</td>\n",
       "      <td>MA</td>\n",
       "      <td>07/02/2020</td>\n",
       "      <td>FEMININO</td>\n",
       "      <td>2º GRAU INCOMPLETO</td>\n",
       "      <td>Pardo</td>\n",
       "      <td>CASADO</td>\n",
       "      <td>01/08/1994</td>\n",
       "      <td>Brasileiro Nato</td>\n",
       "      <td>GONCALVES DIAS</td>\n",
       "      <td>MA</td>\n",
       "    </tr>\n",
       "  </tbody>\n",
       "</table>\n",
       "</div>"
      ],
      "text/plain": [
       "  tipo_protocolo municipio_emissao uf_emissao data_emissao      sexo  \\\n",
       "0         1ª Via          TERESINA         PI   17/01/2020  FEMININO   \n",
       "1         1ª Via            TUNTUM         MA   07/02/2020  FEMININO   \n",
       "\n",
       "                         nivel_escolaridade raca_e_cor estado_civil  \\\n",
       "0  SUPERIOR COMPL. OU HABILIT. LEGAL EQUIV.      Pardo     SOLTEIRO   \n",
       "1                        2º GRAU INCOMPLETO      Pardo       CASADO   \n",
       "\n",
       "  data_nascimento   tipo_cidadania municipio_nascimento uf_nascimento  \n",
       "0      07/05/1985  Brasileiro Nato                ALTOS            PI  \n",
       "1      01/08/1994  Brasileiro Nato       GONCALVES DIAS            MA  "
      ]
     },
     "execution_count": 6,
     "metadata": {},
     "output_type": "execute_result"
    }
   ],
   "source": [
    "# visualizando o cabeçalho do dataframe para conferir as alterações feitas\n",
    "df.head(2)"
   ]
  },
  {
   "cell_type": "code",
   "execution_count": 7,
   "metadata": {},
   "outputs": [
    {
     "data": {
      "text/html": [
       "<div>\n",
       "<style scoped>\n",
       "    .dataframe tbody tr th:only-of-type {\n",
       "        vertical-align: middle;\n",
       "    }\n",
       "\n",
       "    .dataframe tbody tr th {\n",
       "        vertical-align: top;\n",
       "    }\n",
       "\n",
       "    .dataframe thead th {\n",
       "        text-align: right;\n",
       "    }\n",
       "</style>\n",
       "<table border=\"1\" class=\"dataframe\">\n",
       "  <thead>\n",
       "    <tr style=\"text-align: right;\">\n",
       "      <th></th>\n",
       "      <th>tipo_protocolo</th>\n",
       "      <th>municipio_emissao</th>\n",
       "      <th>uf_emissao</th>\n",
       "      <th>data_emissao</th>\n",
       "      <th>sexo</th>\n",
       "      <th>nivel_escolaridade</th>\n",
       "      <th>raca_e_cor</th>\n",
       "      <th>estado_civil</th>\n",
       "      <th>data_nascimento</th>\n",
       "      <th>tipo_cidadania</th>\n",
       "      <th>municipio_nascimento</th>\n",
       "      <th>uf_nascimento</th>\n",
       "    </tr>\n",
       "  </thead>\n",
       "  <tbody>\n",
       "    <tr>\n",
       "      <th>0</th>\n",
       "      <td>1ª Via</td>\n",
       "      <td>TERESINA</td>\n",
       "      <td>PI</td>\n",
       "      <td>17/01/2020</td>\n",
       "      <td>FEMININO</td>\n",
       "      <td>SUPERIOR COMPL. OU HABILIT. LEGAL EQUIV.</td>\n",
       "      <td>Pardo</td>\n",
       "      <td>SOLTEIRO</td>\n",
       "      <td>07/05/1985</td>\n",
       "      <td>Brasileiro Nato</td>\n",
       "      <td>ALTOS</td>\n",
       "      <td>PI</td>\n",
       "    </tr>\n",
       "    <tr>\n",
       "      <th>1</th>\n",
       "      <td>1ª Via</td>\n",
       "      <td>TUNTUM</td>\n",
       "      <td>MA</td>\n",
       "      <td>07/02/2020</td>\n",
       "      <td>FEMININO</td>\n",
       "      <td>2º GRAU INCOMPLETO</td>\n",
       "      <td>Pardo</td>\n",
       "      <td>CASADO</td>\n",
       "      <td>01/08/1994</td>\n",
       "      <td>Brasileiro Nato</td>\n",
       "      <td>GONCALVES DIAS</td>\n",
       "      <td>MA</td>\n",
       "    </tr>\n",
       "    <tr>\n",
       "      <th>2</th>\n",
       "      <td>1ª Via</td>\n",
       "      <td>BELEM</td>\n",
       "      <td>PA</td>\n",
       "      <td>04/02/2020</td>\n",
       "      <td>FEMININO</td>\n",
       "      <td>2º GRAU COMPLETO OU TEC. PROFISSIONAL</td>\n",
       "      <td>Pardo</td>\n",
       "      <td>SOLTEIRO</td>\n",
       "      <td>23/03/1975</td>\n",
       "      <td>Brasileiro Nato</td>\n",
       "      <td>MARABA</td>\n",
       "      <td>PA</td>\n",
       "    </tr>\n",
       "    <tr>\n",
       "      <th>3</th>\n",
       "      <td>2ª Via</td>\n",
       "      <td>VITORIA DA CONQUISTA</td>\n",
       "      <td>BA</td>\n",
       "      <td>03/03/2020</td>\n",
       "      <td>MASCULINO</td>\n",
       "      <td>2º GRAU COMPLETO OU TEC. PROFISSIONAL</td>\n",
       "      <td>Pardo</td>\n",
       "      <td>CASADO</td>\n",
       "      <td>04/09/1986</td>\n",
       "      <td>Brasileiro Nato</td>\n",
       "      <td>CONDEUBA</td>\n",
       "      <td>BA</td>\n",
       "    </tr>\n",
       "    <tr>\n",
       "      <th>4</th>\n",
       "      <td>2ª Via</td>\n",
       "      <td>CORUMBIARA</td>\n",
       "      <td>RO</td>\n",
       "      <td>30/01/2020</td>\n",
       "      <td>FEMININO</td>\n",
       "      <td>2º GRAU COMPLETO OU TEC. PROFISSIONAL</td>\n",
       "      <td>Branco</td>\n",
       "      <td>SEPARADO J</td>\n",
       "      <td>21/10/1984</td>\n",
       "      <td>Brasileiro Nato</td>\n",
       "      <td>BETIM</td>\n",
       "      <td>MG</td>\n",
       "    </tr>\n",
       "  </tbody>\n",
       "</table>\n",
       "</div>"
      ],
      "text/plain": [
       "  tipo_protocolo     municipio_emissao uf_emissao data_emissao       sexo  \\\n",
       "0         1ª Via              TERESINA         PI   17/01/2020   FEMININO   \n",
       "1         1ª Via                TUNTUM         MA   07/02/2020   FEMININO   \n",
       "2         1ª Via                 BELEM         PA   04/02/2020   FEMININO   \n",
       "3         2ª Via  VITORIA DA CONQUISTA         BA   03/03/2020  MASCULINO   \n",
       "4         2ª Via            CORUMBIARA         RO   30/01/2020   FEMININO   \n",
       "\n",
       "                         nivel_escolaridade raca_e_cor estado_civil  \\\n",
       "0  SUPERIOR COMPL. OU HABILIT. LEGAL EQUIV.      Pardo     SOLTEIRO   \n",
       "1                        2º GRAU INCOMPLETO      Pardo       CASADO   \n",
       "2     2º GRAU COMPLETO OU TEC. PROFISSIONAL      Pardo     SOLTEIRO   \n",
       "3     2º GRAU COMPLETO OU TEC. PROFISSIONAL      Pardo       CASADO   \n",
       "4     2º GRAU COMPLETO OU TEC. PROFISSIONAL     Branco   SEPARADO J   \n",
       "\n",
       "  data_nascimento   tipo_cidadania municipio_nascimento uf_nascimento  \n",
       "0      07/05/1985  Brasileiro Nato                ALTOS            PI  \n",
       "1      01/08/1994  Brasileiro Nato       GONCALVES DIAS            MA  \n",
       "2      23/03/1975  Brasileiro Nato               MARABA            PA  \n",
       "3      04/09/1986  Brasileiro Nato             CONDEUBA            BA  \n",
       "4      21/10/1984  Brasileiro Nato                BETIM            MG  "
      ]
     },
     "execution_count": 7,
     "metadata": {},
     "output_type": "execute_result"
    }
   ],
   "source": [
    "# usando o dropna para remover linhas vazias\n",
    "df = df.dropna()\n",
    "df.head()"
   ]
  },
  {
   "cell_type": "code",
   "execution_count": 8,
   "metadata": {},
   "outputs": [
    {
     "data": {
      "text/plain": [
       "tipo_protocolo          463938\n",
       "municipio_emissao       463938\n",
       "uf_emissao              463938\n",
       "data_emissao            463938\n",
       "sexo                    463938\n",
       "nivel_escolaridade      463938\n",
       "raca_e_cor              463938\n",
       "estado_civil            463938\n",
       "data_nascimento         463938\n",
       "tipo_cidadania          463938\n",
       "municipio_nascimento    463938\n",
       "uf_nascimento           463938\n",
       "dtype: int64"
      ]
     },
     "execution_count": 8,
     "metadata": {},
     "output_type": "execute_result"
    }
   ],
   "source": [
    "# usando o count() para verificar se nosso dataframe está homogêneo com todas as colunas possuindo o mesmo número de linhas\n",
    "df.count()"
   ]
  },
  {
   "cell_type": "markdown",
   "metadata": {},
   "source": [
    "Ao verficar a coluna `nivel_escolaridade` observamos que possui uma grande variedade de dados diferentes para descrever a escolaridade dos cidadãos então optamos por criar uma nova coluna e condensar essas informações para uma melhor leitura dos dados."
   ]
  },
  {
   "cell_type": "code",
   "execution_count": 9,
   "metadata": {},
   "outputs": [
    {
     "data": {
      "text/html": [
       "<div>\n",
       "<style scoped>\n",
       "    .dataframe tbody tr th:only-of-type {\n",
       "        vertical-align: middle;\n",
       "    }\n",
       "\n",
       "    .dataframe tbody tr th {\n",
       "        vertical-align: top;\n",
       "    }\n",
       "\n",
       "    .dataframe thead th {\n",
       "        text-align: right;\n",
       "    }\n",
       "</style>\n",
       "<table border=\"1\" class=\"dataframe\">\n",
       "  <thead>\n",
       "    <tr style=\"text-align: right;\">\n",
       "      <th></th>\n",
       "      <th>tipo_protocolo</th>\n",
       "      <th>municipio_emissao</th>\n",
       "      <th>uf_emissao</th>\n",
       "      <th>data_emissao</th>\n",
       "      <th>sexo</th>\n",
       "      <th>nivel_escolaridade</th>\n",
       "      <th>raca_e_cor</th>\n",
       "      <th>estado_civil</th>\n",
       "      <th>data_nascimento</th>\n",
       "      <th>tipo_cidadania</th>\n",
       "      <th>municipio_nascimento</th>\n",
       "      <th>uf_nascimento</th>\n",
       "      <th>escolaridade_condensada</th>\n",
       "    </tr>\n",
       "  </thead>\n",
       "  <tbody>\n",
       "    <tr>\n",
       "      <th>0</th>\n",
       "      <td>1ª Via</td>\n",
       "      <td>TERESINA</td>\n",
       "      <td>PI</td>\n",
       "      <td>17/01/2020</td>\n",
       "      <td>FEMININO</td>\n",
       "      <td>SUPERIOR COMPL. OU HABILIT. LEGAL EQUIV.</td>\n",
       "      <td>Pardo</td>\n",
       "      <td>SOLTEIRO</td>\n",
       "      <td>07/05/1985</td>\n",
       "      <td>Brasileiro Nato</td>\n",
       "      <td>ALTOS</td>\n",
       "      <td>PI</td>\n",
       "      <td>Superior Completo</td>\n",
       "    </tr>\n",
       "    <tr>\n",
       "      <th>1</th>\n",
       "      <td>1ª Via</td>\n",
       "      <td>TUNTUM</td>\n",
       "      <td>MA</td>\n",
       "      <td>07/02/2020</td>\n",
       "      <td>FEMININO</td>\n",
       "      <td>2º GRAU INCOMPLETO</td>\n",
       "      <td>Pardo</td>\n",
       "      <td>CASADO</td>\n",
       "      <td>01/08/1994</td>\n",
       "      <td>Brasileiro Nato</td>\n",
       "      <td>GONCALVES DIAS</td>\n",
       "      <td>MA</td>\n",
       "      <td>Ensino Médio Incompleto</td>\n",
       "    </tr>\n",
       "    <tr>\n",
       "      <th>2</th>\n",
       "      <td>1ª Via</td>\n",
       "      <td>BELEM</td>\n",
       "      <td>PA</td>\n",
       "      <td>04/02/2020</td>\n",
       "      <td>FEMININO</td>\n",
       "      <td>2º GRAU COMPLETO OU TEC. PROFISSIONAL</td>\n",
       "      <td>Pardo</td>\n",
       "      <td>SOLTEIRO</td>\n",
       "      <td>23/03/1975</td>\n",
       "      <td>Brasileiro Nato</td>\n",
       "      <td>MARABA</td>\n",
       "      <td>PA</td>\n",
       "      <td>Ensino Médio Completo</td>\n",
       "    </tr>\n",
       "    <tr>\n",
       "      <th>3</th>\n",
       "      <td>2ª Via</td>\n",
       "      <td>VITORIA DA CONQUISTA</td>\n",
       "      <td>BA</td>\n",
       "      <td>03/03/2020</td>\n",
       "      <td>MASCULINO</td>\n",
       "      <td>2º GRAU COMPLETO OU TEC. PROFISSIONAL</td>\n",
       "      <td>Pardo</td>\n",
       "      <td>CASADO</td>\n",
       "      <td>04/09/1986</td>\n",
       "      <td>Brasileiro Nato</td>\n",
       "      <td>CONDEUBA</td>\n",
       "      <td>BA</td>\n",
       "      <td>Ensino Médio Completo</td>\n",
       "    </tr>\n",
       "    <tr>\n",
       "      <th>4</th>\n",
       "      <td>2ª Via</td>\n",
       "      <td>CORUMBIARA</td>\n",
       "      <td>RO</td>\n",
       "      <td>30/01/2020</td>\n",
       "      <td>FEMININO</td>\n",
       "      <td>2º GRAU COMPLETO OU TEC. PROFISSIONAL</td>\n",
       "      <td>Branco</td>\n",
       "      <td>SEPARADO J</td>\n",
       "      <td>21/10/1984</td>\n",
       "      <td>Brasileiro Nato</td>\n",
       "      <td>BETIM</td>\n",
       "      <td>MG</td>\n",
       "      <td>Ensino Médio Completo</td>\n",
       "    </tr>\n",
       "  </tbody>\n",
       "</table>\n",
       "</div>"
      ],
      "text/plain": [
       "  tipo_protocolo     municipio_emissao uf_emissao data_emissao       sexo  \\\n",
       "0         1ª Via              TERESINA         PI   17/01/2020   FEMININO   \n",
       "1         1ª Via                TUNTUM         MA   07/02/2020   FEMININO   \n",
       "2         1ª Via                 BELEM         PA   04/02/2020   FEMININO   \n",
       "3         2ª Via  VITORIA DA CONQUISTA         BA   03/03/2020  MASCULINO   \n",
       "4         2ª Via            CORUMBIARA         RO   30/01/2020   FEMININO   \n",
       "\n",
       "                         nivel_escolaridade raca_e_cor estado_civil  \\\n",
       "0  SUPERIOR COMPL. OU HABILIT. LEGAL EQUIV.      Pardo     SOLTEIRO   \n",
       "1                        2º GRAU INCOMPLETO      Pardo       CASADO   \n",
       "2     2º GRAU COMPLETO OU TEC. PROFISSIONAL      Pardo     SOLTEIRO   \n",
       "3     2º GRAU COMPLETO OU TEC. PROFISSIONAL      Pardo       CASADO   \n",
       "4     2º GRAU COMPLETO OU TEC. PROFISSIONAL     Branco   SEPARADO J   \n",
       "\n",
       "  data_nascimento   tipo_cidadania municipio_nascimento uf_nascimento  \\\n",
       "0      07/05/1985  Brasileiro Nato                ALTOS            PI   \n",
       "1      01/08/1994  Brasileiro Nato       GONCALVES DIAS            MA   \n",
       "2      23/03/1975  Brasileiro Nato               MARABA            PA   \n",
       "3      04/09/1986  Brasileiro Nato             CONDEUBA            BA   \n",
       "4      21/10/1984  Brasileiro Nato                BETIM            MG   \n",
       "\n",
       "   escolaridade_condensada  \n",
       "0        Superior Completo  \n",
       "1  Ensino Médio Incompleto  \n",
       "2    Ensino Médio Completo  \n",
       "3    Ensino Médio Completo  \n",
       "4    Ensino Médio Completo  "
      ]
     },
     "execution_count": 9,
     "metadata": {},
     "output_type": "execute_result"
    }
   ],
   "source": [
    "#Vamos condensar o nível de escolaridade para facilitar nas análises:\n",
    "escolaridade_condensada = {\n",
    "    \"1º GRAU COMPLETO ATÉ 8ª SÉRIE COMP.\": \"Fundamental Completo\",\n",
    "    \"1º GRAU INCOMP. 5ª A 8ª SÉRIE INCOMP.\": \"Fundamental Incompleto\",\n",
    "    \"1º GRAU INCOMP. ATÉ A 4ª SÉRIE INCOMP.\": \"Fundamental Incompleto\",\n",
    "    \"1º GRAU INCOMPLETO ATÉ A 4ª SÉRIE COMP.\": \"Fundamental Incompleto\",\n",
    "    \"2º GRAU COMPLETO OU TEC. PROFISSIONAL\": \"Ensino Médio Completo\",\n",
    "    \"2º GRAU INCOMPLETO\": \"Ensino Médio Incompleto\",\n",
    "    \"ALFABETIZADO SEM CURSOS REGULARES\": \"Alfabetizado\",\n",
    "    \"ANALFABETO\": \"Analfabeto\",\n",
    "    \"APERFEICOAMENTO\": \"Aperfeiçoamento\",\n",
    "    \"DOUTORADO\": \"Doutorado\",\n",
    "    \"ESPECIALIZACAO\": \"Especialização\",\n",
    "    \"LIVRE DOCENCIA\": \"Livre Docência\",\n",
    "    \"MESTRADO\": \"Mestrado\",\n",
    "    \"PHD\": \"Doutorado\",\n",
    "    \"POS DOCTOR\": \"Pós-Doutorado\",\n",
    "    \"POS GRADUACAO\": \"Pós-Graduação\",\n",
    "    \"SEMIANALFABETO\": \"Semianalfabeto\",\n",
    "    \"SUPERIOR COMPL. OU HABILIT. LEGAL EQUIV.\": \"Superior Completo\",\n",
    "    \"SUPERIOR INCOMPLETO\": \"Superior Incompleto\",\n",
    "}\n",
    "\n",
    "\n",
    "df[\"escolaridade_condensada\"] = df[\"nivel_escolaridade\"].apply(lambda x: escolaridade_condensada[x])\n",
    "\n",
    "df.head()"
   ]
  },
  {
   "cell_type": "markdown",
   "metadata": {},
   "source": [
    "Verificando a coluna `uf_emissao` observamos 12 linhas com a sigla *IG* que não corresponde a nenhum estado brasileiro então optamos por excluir essas linhas pois não afetarão nos resultados das nossas análises."
   ]
  },
  {
   "cell_type": "code",
   "execution_count": 10,
   "metadata": {},
   "outputs": [
    {
     "data": {
      "text/plain": [
       "uf_emissao\n",
       "AC     1899\n",
       "AL     4395\n",
       "AM    13127\n",
       "AP       46\n",
       "BA    68023\n",
       "CE    18399\n",
       "DF      123\n",
       "ES     5394\n",
       "GO    23878\n",
       "IG       12\n",
       "MA    20390\n",
       "MG    81148\n",
       "MS    14329\n",
       "MT     6166\n",
       "PA    31121\n",
       "PB     2061\n",
       "PE    32757\n",
       "PI     8651\n",
       "PR    37186\n",
       "RJ    68988\n",
       "RN     2206\n",
       "RO     7427\n",
       "RR     4402\n",
       "RS      348\n",
       "SC      941\n",
       "SE     6854\n",
       "SP     1735\n",
       "TO     1932\n",
       "dtype: int64"
      ]
     },
     "execution_count": 10,
     "metadata": {},
     "output_type": "execute_result"
    }
   ],
   "source": [
    "df.groupby('uf_emissao').size()"
   ]
  },
  {
   "cell_type": "code",
   "execution_count": 38,
   "metadata": {},
   "outputs": [],
   "source": [
    "# para excluir as linhas com IG realizamos a operação abaixo atribuindo à coluna emissao_uf os dados diferentes de IG\n",
    "df = df[df['uf_emissao'] != 'IG']"
   ]
  },
  {
   "cell_type": "markdown",
   "metadata": {},
   "source": [
    "Verificandos os tipos dos dados podemos observar que estão todos como o tipo `object` e para utilizar as datas corretamente precisamos transformar para o tipo correto."
   ]
  },
  {
   "cell_type": "code",
   "execution_count": 39,
   "metadata": {},
   "outputs": [
    {
     "data": {
      "text/plain": [
       "tipo_protocolo                     object\n",
       "municipio_emissao                  object\n",
       "uf_emissao                         object\n",
       "data_emissao               datetime64[ns]\n",
       "sexo                               object\n",
       "nivel_escolaridade                 object\n",
       "raca_e_cor                         object\n",
       "estado_civil                       object\n",
       "data_nascimento                    object\n",
       "tipo_cidadania                     object\n",
       "municipio_nascimento               object\n",
       "uf_nascimento                      object\n",
       "escolaridade_condensada            object\n",
       "idade                               int64\n",
       "dtype: object"
      ]
     },
     "execution_count": 39,
     "metadata": {},
     "output_type": "execute_result"
    }
   ],
   "source": [
    "df.dtypes"
   ]
  },
  {
   "cell_type": "code",
   "execution_count": 40,
   "metadata": {},
   "outputs": [],
   "source": [
    "# transformando as datas para o tipo correto\n",
    "df.data_emissao = pd.to_datetime(df.data_emissao, format='%d/%m/%Y')\n",
    "df.data_nascimento = pd.to_datetime(df.data_nascimento, format='%d/%m/%Y')"
   ]
  },
  {
   "cell_type": "code",
   "execution_count": 41,
   "metadata": {},
   "outputs": [
    {
     "data": {
      "text/plain": [
       "tipo_protocolo                     object\n",
       "municipio_emissao                  object\n",
       "uf_emissao                         object\n",
       "data_emissao               datetime64[ns]\n",
       "sexo                               object\n",
       "nivel_escolaridade                 object\n",
       "raca_e_cor                         object\n",
       "estado_civil                       object\n",
       "data_nascimento            datetime64[ns]\n",
       "tipo_cidadania                     object\n",
       "municipio_nascimento               object\n",
       "uf_nascimento                      object\n",
       "escolaridade_condensada            object\n",
       "idade                               int64\n",
       "dtype: object"
      ]
     },
     "execution_count": 41,
     "metadata": {},
     "output_type": "execute_result"
    }
   ],
   "source": [
    "# verificando as transformações de data\n",
    "df.dtypes "
   ]
  },
  {
   "cell_type": "markdown",
   "metadata": {},
   "source": [
    "Iremos criar uma coluna com a idade dos cidadões que solicitaram emissão de CTPS para realizar uma análise estatística."
   ]
  },
  {
   "cell_type": "code",
   "execution_count": 42,
   "metadata": {},
   "outputs": [
    {
     "data": {
      "text/html": [
       "<div>\n",
       "<style scoped>\n",
       "    .dataframe tbody tr th:only-of-type {\n",
       "        vertical-align: middle;\n",
       "    }\n",
       "\n",
       "    .dataframe tbody tr th {\n",
       "        vertical-align: top;\n",
       "    }\n",
       "\n",
       "    .dataframe thead th {\n",
       "        text-align: right;\n",
       "    }\n",
       "</style>\n",
       "<table border=\"1\" class=\"dataframe\">\n",
       "  <thead>\n",
       "    <tr style=\"text-align: right;\">\n",
       "      <th></th>\n",
       "      <th>tipo_protocolo</th>\n",
       "      <th>municipio_emissao</th>\n",
       "      <th>uf_emissao</th>\n",
       "      <th>data_emissao</th>\n",
       "      <th>sexo</th>\n",
       "      <th>nivel_escolaridade</th>\n",
       "      <th>raca_e_cor</th>\n",
       "      <th>estado_civil</th>\n",
       "      <th>data_nascimento</th>\n",
       "      <th>tipo_cidadania</th>\n",
       "      <th>municipio_nascimento</th>\n",
       "      <th>uf_nascimento</th>\n",
       "      <th>escolaridade_condensada</th>\n",
       "      <th>idade</th>\n",
       "    </tr>\n",
       "  </thead>\n",
       "  <tbody>\n",
       "    <tr>\n",
       "      <th>0</th>\n",
       "      <td>1ª Via</td>\n",
       "      <td>TERESINA</td>\n",
       "      <td>PI</td>\n",
       "      <td>2020-01-17</td>\n",
       "      <td>FEMININO</td>\n",
       "      <td>SUPERIOR COMPL. OU HABILIT. LEGAL EQUIV.</td>\n",
       "      <td>Pardo</td>\n",
       "      <td>SOLTEIRO</td>\n",
       "      <td>1985-05-07</td>\n",
       "      <td>Brasileiro Nato</td>\n",
       "      <td>ALTOS</td>\n",
       "      <td>PI</td>\n",
       "      <td>Superior Completo</td>\n",
       "      <td>38</td>\n",
       "    </tr>\n",
       "    <tr>\n",
       "      <th>1</th>\n",
       "      <td>1ª Via</td>\n",
       "      <td>TUNTUM</td>\n",
       "      <td>MA</td>\n",
       "      <td>2020-02-07</td>\n",
       "      <td>FEMININO</td>\n",
       "      <td>2º GRAU INCOMPLETO</td>\n",
       "      <td>Pardo</td>\n",
       "      <td>CASADO</td>\n",
       "      <td>1994-08-01</td>\n",
       "      <td>Brasileiro Nato</td>\n",
       "      <td>GONCALVES DIAS</td>\n",
       "      <td>MA</td>\n",
       "      <td>Ensino Médio Incompleto</td>\n",
       "      <td>29</td>\n",
       "    </tr>\n",
       "    <tr>\n",
       "      <th>2</th>\n",
       "      <td>1ª Via</td>\n",
       "      <td>BELEM</td>\n",
       "      <td>PA</td>\n",
       "      <td>2020-02-04</td>\n",
       "      <td>FEMININO</td>\n",
       "      <td>2º GRAU COMPLETO OU TEC. PROFISSIONAL</td>\n",
       "      <td>Pardo</td>\n",
       "      <td>SOLTEIRO</td>\n",
       "      <td>1975-03-23</td>\n",
       "      <td>Brasileiro Nato</td>\n",
       "      <td>MARABA</td>\n",
       "      <td>PA</td>\n",
       "      <td>Ensino Médio Completo</td>\n",
       "      <td>48</td>\n",
       "    </tr>\n",
       "    <tr>\n",
       "      <th>3</th>\n",
       "      <td>2ª Via</td>\n",
       "      <td>VITORIA DA CONQUISTA</td>\n",
       "      <td>BA</td>\n",
       "      <td>2020-03-03</td>\n",
       "      <td>MASCULINO</td>\n",
       "      <td>2º GRAU COMPLETO OU TEC. PROFISSIONAL</td>\n",
       "      <td>Pardo</td>\n",
       "      <td>CASADO</td>\n",
       "      <td>1986-09-04</td>\n",
       "      <td>Brasileiro Nato</td>\n",
       "      <td>CONDEUBA</td>\n",
       "      <td>BA</td>\n",
       "      <td>Ensino Médio Completo</td>\n",
       "      <td>37</td>\n",
       "    </tr>\n",
       "    <tr>\n",
       "      <th>4</th>\n",
       "      <td>2ª Via</td>\n",
       "      <td>CORUMBIARA</td>\n",
       "      <td>RO</td>\n",
       "      <td>2020-01-30</td>\n",
       "      <td>FEMININO</td>\n",
       "      <td>2º GRAU COMPLETO OU TEC. PROFISSIONAL</td>\n",
       "      <td>Branco</td>\n",
       "      <td>SEPARADO J</td>\n",
       "      <td>1984-10-21</td>\n",
       "      <td>Brasileiro Nato</td>\n",
       "      <td>BETIM</td>\n",
       "      <td>MG</td>\n",
       "      <td>Ensino Médio Completo</td>\n",
       "      <td>39</td>\n",
       "    </tr>\n",
       "  </tbody>\n",
       "</table>\n",
       "</div>"
      ],
      "text/plain": [
       "  tipo_protocolo     municipio_emissao uf_emissao data_emissao       sexo  \\\n",
       "0         1ª Via              TERESINA         PI   2020-01-17   FEMININO   \n",
       "1         1ª Via                TUNTUM         MA   2020-02-07   FEMININO   \n",
       "2         1ª Via                 BELEM         PA   2020-02-04   FEMININO   \n",
       "3         2ª Via  VITORIA DA CONQUISTA         BA   2020-03-03  MASCULINO   \n",
       "4         2ª Via            CORUMBIARA         RO   2020-01-30   FEMININO   \n",
       "\n",
       "                         nivel_escolaridade raca_e_cor estado_civil  \\\n",
       "0  SUPERIOR COMPL. OU HABILIT. LEGAL EQUIV.      Pardo     SOLTEIRO   \n",
       "1                        2º GRAU INCOMPLETO      Pardo       CASADO   \n",
       "2     2º GRAU COMPLETO OU TEC. PROFISSIONAL      Pardo     SOLTEIRO   \n",
       "3     2º GRAU COMPLETO OU TEC. PROFISSIONAL      Pardo       CASADO   \n",
       "4     2º GRAU COMPLETO OU TEC. PROFISSIONAL     Branco   SEPARADO J   \n",
       "\n",
       "  data_nascimento   tipo_cidadania municipio_nascimento uf_nascimento  \\\n",
       "0      1985-05-07  Brasileiro Nato                ALTOS            PI   \n",
       "1      1994-08-01  Brasileiro Nato       GONCALVES DIAS            MA   \n",
       "2      1975-03-23  Brasileiro Nato               MARABA            PA   \n",
       "3      1986-09-04  Brasileiro Nato             CONDEUBA            BA   \n",
       "4      1984-10-21  Brasileiro Nato                BETIM            MG   \n",
       "\n",
       "   escolaridade_condensada  idade  \n",
       "0        Superior Completo     38  \n",
       "1  Ensino Médio Incompleto     29  \n",
       "2    Ensino Médio Completo     48  \n",
       "3    Ensino Médio Completo     37  \n",
       "4    Ensino Médio Completo     39  "
      ]
     },
     "execution_count": 42,
     "metadata": {},
     "output_type": "execute_result"
    }
   ],
   "source": [
    "# criando a coluna idade realizando a subtração da data autal pela data de nascimento. Utilizamos a divisão do valor por 365.25 para incluir anos bissextos.\n",
    "\n",
    "data_atual = datetime.now()\n",
    "df['idade'] = (data_atual - df['data_nascimento']) // pd.Timedelta(days=365.25)\n",
    "df.head()"
   ]
  },
  {
   "cell_type": "markdown",
   "metadata": {},
   "source": [
    "Com a criação da coluna `idade` nós finalizamos as transformações necessárias do nosso dataframe e partiremos para as análises.\n",
    "Mais uma vez utilizamos o `dtypes` para verficar os tipos de dados do dataframe e certificar de que estão certos para usar em nossas análises. \n",
    "\n",
    "É possível observer que as datas agora estão no formato correto (`datetime64`) e que a coluna idade também está com o tipo de dado correto (`int64`).\n",
    "\n",
    "Podemos então fazer o carregamento dos dados para um arquivo final."
   ]
  },
  {
   "cell_type": "code",
   "execution_count": 43,
   "metadata": {},
   "outputs": [
    {
     "data": {
      "text/plain": [
       "tipo_protocolo                     object\n",
       "municipio_emissao                  object\n",
       "uf_emissao                         object\n",
       "data_emissao               datetime64[ns]\n",
       "sexo                               object\n",
       "nivel_escolaridade                 object\n",
       "raca_e_cor                         object\n",
       "estado_civil                       object\n",
       "data_nascimento            datetime64[ns]\n",
       "tipo_cidadania                     object\n",
       "municipio_nascimento               object\n",
       "uf_nascimento                      object\n",
       "escolaridade_condensada            object\n",
       "idade                               int64\n",
       "dtype: object"
      ]
     },
     "execution_count": 43,
     "metadata": {},
     "output_type": "execute_result"
    }
   ],
   "source": [
    "# verificando os tipos de dados \n",
    "df.dtypes"
   ]
  },
  {
   "cell_type": "markdown",
   "metadata": {},
   "source": [
    "#### Carregamento dos Dados"
   ]
  },
  {
   "cell_type": "code",
   "execution_count": 44,
   "metadata": {},
   "outputs": [],
   "source": [
    "# exportando nosso dataframe para um arquivo csv. Usamos o parâmetro index=False para ignorar o índice do dataframe e não criar uma coluna duplicada de índice no arquivo e o date_format para garantir que as datas se mantenham no formato correto.\n",
    "df.to_csv('basectps_tratada.csv', index=False, date_format='%d/%m/%Y')"
   ]
  },
  {
   "cell_type": "markdown",
   "metadata": {},
   "source": [
    "## Análises"
   ]
  },
  {
   "cell_type": "code",
   "execution_count": 45,
   "metadata": {},
   "outputs": [],
   "source": [
    "# fazendo a leitura do arquivo\n",
    "df = pd.read_csv(\"basectps_tratada.csv\")"
   ]
  },
  {
   "cell_type": "markdown",
   "metadata": {},
   "source": [
    "Verificando os tipos de dados observamos que apesar de ter estabelecido o formato das datas ao carregar os dados na etapa de ETL o arquivo tratado não manteve o formato, então iremos modificar a coluna `data_emissao` para o tipo correto pois precisaremos dela futuramente."
   ]
  },
  {
   "cell_type": "code",
   "execution_count": 46,
   "metadata": {},
   "outputs": [
    {
     "data": {
      "text/plain": [
       "tipo_protocolo             object\n",
       "municipio_emissao          object\n",
       "uf_emissao                 object\n",
       "data_emissao               object\n",
       "sexo                       object\n",
       "nivel_escolaridade         object\n",
       "raca_e_cor                 object\n",
       "estado_civil               object\n",
       "data_nascimento            object\n",
       "tipo_cidadania             object\n",
       "municipio_nascimento       object\n",
       "uf_nascimento              object\n",
       "escolaridade_condensada    object\n",
       "idade                       int64\n",
       "dtype: object"
      ]
     },
     "execution_count": 46,
     "metadata": {},
     "output_type": "execute_result"
    }
   ],
   "source": [
    "df.dtypes"
   ]
  },
  {
   "cell_type": "code",
   "execution_count": 47,
   "metadata": {},
   "outputs": [],
   "source": [
    "df.data_emissao = pd.to_datetime(df.data_emissao, format='%d/%m/%Y')"
   ]
  },
  {
   "cell_type": "code",
   "execution_count": 48,
   "metadata": {},
   "outputs": [
    {
     "data": {
      "text/plain": [
       "tipo_protocolo                     object\n",
       "municipio_emissao                  object\n",
       "uf_emissao                         object\n",
       "data_emissao               datetime64[ns]\n",
       "sexo                               object\n",
       "nivel_escolaridade                 object\n",
       "raca_e_cor                         object\n",
       "estado_civil                       object\n",
       "data_nascimento                    object\n",
       "tipo_cidadania                     object\n",
       "municipio_nascimento               object\n",
       "uf_nascimento                      object\n",
       "escolaridade_condensada            object\n",
       "idade                               int64\n",
       "dtype: object"
      ]
     },
     "execution_count": 48,
     "metadata": {},
     "output_type": "execute_result"
    }
   ],
   "source": [
    "# verificando as alterações aplicadas\n",
    "df.dtypes"
   ]
  },
  {
   "cell_type": "markdown",
   "metadata": {},
   "source": [
    "#### Perfil de Idade"
   ]
  },
  {
   "cell_type": "markdown",
   "metadata": {},
   "source": [
    "Usando o método `describe()` temos um resumo estatístico da coluna `idade`.\n",
    "\n",
    "Podemos observar que a **média** das idades é de aproximadamente 29 anos.\n",
    "\n",
    "A **menor** idade registrada é de 17 anos e a **maior** idade é de 113 anos.\n",
    "\n",
    "Temos também as informações referentes aos quartis onde 25% dos cidadãos possuem até 21 anos e **metade** das pessoas que solicitaram a emissão da CTPS possuem **até 23 anos**. Verificamos também que a grande maioria das CTPS (**75%**) foram emitidas para pessoas com **até 34 anos**."
   ]
  },
  {
   "cell_type": "code",
   "execution_count": 49,
   "metadata": {},
   "outputs": [
    {
     "data": {
      "text/html": [
       "<div>\n",
       "<style scoped>\n",
       "    .dataframe tbody tr th:only-of-type {\n",
       "        vertical-align: middle;\n",
       "    }\n",
       "\n",
       "    .dataframe tbody tr th {\n",
       "        vertical-align: top;\n",
       "    }\n",
       "\n",
       "    .dataframe thead th {\n",
       "        text-align: right;\n",
       "    }\n",
       "</style>\n",
       "<table border=\"1\" class=\"dataframe\">\n",
       "  <thead>\n",
       "    <tr style=\"text-align: right;\">\n",
       "      <th></th>\n",
       "      <th>data_emissao</th>\n",
       "      <th>idade</th>\n",
       "    </tr>\n",
       "  </thead>\n",
       "  <tbody>\n",
       "    <tr>\n",
       "      <th>count</th>\n",
       "      <td>463926</td>\n",
       "      <td>463926.000000</td>\n",
       "    </tr>\n",
       "    <tr>\n",
       "      <th>mean</th>\n",
       "      <td>2020-02-11 21:52:28.655604736</td>\n",
       "      <td>28.956454</td>\n",
       "    </tr>\n",
       "    <tr>\n",
       "      <th>min</th>\n",
       "      <td>2020-01-02 00:00:00</td>\n",
       "      <td>17.000000</td>\n",
       "    </tr>\n",
       "    <tr>\n",
       "      <th>25%</th>\n",
       "      <td>2020-01-20 00:00:00</td>\n",
       "      <td>21.000000</td>\n",
       "    </tr>\n",
       "    <tr>\n",
       "      <th>50%</th>\n",
       "      <td>2020-02-03 00:00:00</td>\n",
       "      <td>23.000000</td>\n",
       "    </tr>\n",
       "    <tr>\n",
       "      <th>75%</th>\n",
       "      <td>2020-02-19 00:00:00</td>\n",
       "      <td>34.000000</td>\n",
       "    </tr>\n",
       "    <tr>\n",
       "      <th>max</th>\n",
       "      <td>2020-12-31 00:00:00</td>\n",
       "      <td>113.000000</td>\n",
       "    </tr>\n",
       "    <tr>\n",
       "      <th>std</th>\n",
       "      <td>NaN</td>\n",
       "      <td>12.187213</td>\n",
       "    </tr>\n",
       "  </tbody>\n",
       "</table>\n",
       "</div>"
      ],
      "text/plain": [
       "                        data_emissao          idade\n",
       "count                         463926  463926.000000\n",
       "mean   2020-02-11 21:52:28.655604736      28.956454\n",
       "min              2020-01-02 00:00:00      17.000000\n",
       "25%              2020-01-20 00:00:00      21.000000\n",
       "50%              2020-02-03 00:00:00      23.000000\n",
       "75%              2020-02-19 00:00:00      34.000000\n",
       "max              2020-12-31 00:00:00     113.000000\n",
       "std                              NaN      12.187213"
      ]
     },
     "execution_count": 49,
     "metadata": {},
     "output_type": "execute_result"
    }
   ],
   "source": [
    "df.describe()"
   ]
  },
  {
   "cell_type": "markdown",
   "metadata": {},
   "source": [
    "Vamos usar o gráfico de boxplot para verificar a distribuição das idades de acordo com os dados acima."
   ]
  },
  {
   "cell_type": "code",
   "execution_count": 50,
   "metadata": {},
   "outputs": [
    {
     "data": {
      "image/png": "[encoded data removed]",
      "text/plain": [
       "<Figure size 640x480 with 1 Axes>"
      ]
     },
     "metadata": {},
     "output_type": "display_data"
    }
   ],
   "source": [
    "plt.boxplot(df['idade'], vert=False,)  # vert=False para orientação horizontal\n",
    "plt.xlabel('Idade')\n",
    "plt.title('Boxplot da Idade')\n",
    "plt.grid(True)\n",
    "plt.show()"
   ]
  },
  {
   "cell_type": "markdown",
   "metadata": {},
   "source": [
    "Agora vamos ver a distribuição das idades usando um histograma.\n",
    "\n",
    "Confirmando o que vimos no resumo dos dados e no boxplot podemos ver a grande concentração de emissões até aproximadamente 30 anos."
   ]
  },
  {
   "cell_type": "code",
   "execution_count": 51,
   "metadata": {},
   "outputs": [
    {
     "data": {
      "image/png": "[encoded data removed]",
      "text/plain": [
       "<Figure size 640x480 with 1 Axes>"
      ]
     },
     "metadata": {},
     "output_type": "display_data"
    }
   ],
   "source": [
    "df['idade'].hist(bins=25)\n",
    "plt.title('Distribuição de emissões de CTPS por idade')\n",
    "plt.ylabel('Nº Emissões')\n",
    "plt.show()"
   ]
  },
  {
   "cell_type": "markdown",
   "metadata": {},
   "source": [
    "#### Perfil de sexo"
   ]
  },
  {
   "cell_type": "markdown",
   "metadata": {},
   "source": [
    "Vamos verificar agora como é a distribuição da emissão de carteiras por sexo.\n",
    "\n",
    "Observamos uma distribuição equilibrada com **51.84%** para Masculino e **48.16%** para Feminino."
   ]
  },
  {
   "cell_type": "code",
   "execution_count": 52,
   "metadata": {},
   "outputs": [
    {
     "name": "stdout",
     "output_type": "stream",
     "text": [
      "Percentual de cada sexo em relação ao total:\n",
      "sexo\n",
      "MASCULINO    51.835638\n",
      "FEMININO     48.164362\n",
      "Name: proportion, dtype: float64\n"
     ]
    }
   ],
   "source": [
    "# calculando o percentual de emissões para cada sexo\n",
    "\n",
    "percentual_sexo = df['sexo'].value_counts(normalize=True) * 100\n",
    "\n",
    "print(\"Percentual de cada sexo em relação ao total:\")\n",
    "print(percentual_sexo)\n"
   ]
  },
  {
   "cell_type": "code",
   "execution_count": 53,
   "metadata": {},
   "outputs": [
    {
     "data": {
      "image/png": "[encoded data removed]",
      "text/plain": [
       "<Figure size 640x480 with 1 Axes>"
      ]
     },
     "metadata": {},
     "output_type": "display_data"
    }
   ],
   "source": [
    "# plotando o gráfico da distribuição por sexo\n",
    "df['sexo'].value_counts().plot.bar()\n",
    "plt.title('Emissões de CTPS por sexo')\n",
    "plt.xlabel(None)\n",
    "plt.show()"
   ]
  },
  {
   "cell_type": "markdown",
   "metadata": {},
   "source": [
    "#### Perfil de escolaridade"
   ]
  },
  {
   "cell_type": "markdown",
   "metadata": {},
   "source": [
    "Em relação às emissões por nível de escolaridade temos a maioria do cidadãos com Ensino Médio Completo representanto **32.92%** das CTPS emitidas em 2020. Seguindo temos Ensino Médio Incompleto com **29.60%** das emissões e Fundamental Incompleto com **18.91%** de emissões. \n",
    "\n",
    "Esses três grupos representam **81.43%** das carteiras emitidas em 2020 e é compreensível visto que as pessoas buscam pelo serviço de emissão neste período de escolaridade."
   ]
  },
  {
   "cell_type": "code",
   "execution_count": 54,
   "metadata": {},
   "outputs": [
    {
     "name": "stdout",
     "output_type": "stream",
     "text": [
      "Percentual de cada escolaridade em relação ao total:\n",
      "escolaridade_condensada\n",
      "Ensino Médio Completo      32.922061\n",
      "Ensino Médio Incompleto    29.604075\n",
      "Fundamental Incompleto     18.916594\n",
      "Fundamental Completo        7.564137\n",
      "Superior Incompleto         5.051883\n",
      "Superior Completo           3.573415\n",
      "Analfabeto                  1.035726\n",
      "Alfabetizado                0.857033\n",
      "Pós-Graduação               0.267068\n",
      "Especialização              0.070270\n",
      "Mestrado                    0.059061\n",
      "Semianalfabeto              0.047421\n",
      "Doutorado                   0.019615\n",
      "Aperfeiçoamento             0.009915\n",
      "Pós-Doutorado               0.001293\n",
      "Livre Docência              0.000431\n",
      "Name: proportion, dtype: float64\n"
     ]
    }
   ],
   "source": [
    "percentual_escolaridade = df['escolaridade_condensada'].value_counts(normalize=True) * 100\n",
    "\n",
    "print(\"Percentual de cada escolaridade em relação ao total:\")\n",
    "print(percentual_escolaridade)"
   ]
  },
  {
   "cell_type": "code",
   "execution_count": 55,
   "metadata": {},
   "outputs": [
    {
     "data": {
      "image/png": "[encoded data removed]",
      "text/plain": [
       "<Figure size 640x480 with 1 Axes>"
      ]
     },
     "metadata": {},
     "output_type": "display_data"
    }
   ],
   "source": [
    "# plotando o gráfico das emissões por nível de escolaridade\n",
    "df['escolaridade_condensada'].value_counts().plot.bar()\n",
    "plt.title('Emissões de CTPS por nível de escolaridade')\n",
    "plt.xlabel(None)\n",
    "plt.show()"
   ]
  },
  {
   "cell_type": "markdown",
   "metadata": {},
   "source": [
    "Analisando as médias de idades por escolaridade podemos observar que as modalidades *Livre Docência*, *Ensino Médio Incompleto* e *Superior Incompleto* possuem as menores médias com **21, 23 e 27** anos respectivamente.\n",
    "\n",
    "Já as categorias com maiores médias de idade são *Semianalfabeto, Analfabeto e Alfabetizado* com **54, 54 e 52** anos respectivamente."
   ]
  },
  {
   "cell_type": "code",
   "execution_count": 56,
   "metadata": {},
   "outputs": [
    {
     "name": "stdout",
     "output_type": "stream",
     "text": [
      "escolaridade_condensada\n",
      "Livre Docência             21.000000\n",
      "Ensino Médio Incompleto    23.357548\n",
      "Superior Incompleto        27.515254\n",
      "Ensino Médio Completo      28.497283\n",
      "Fundamental Completo       28.856862\n",
      "Fundamental Incompleto     34.486036\n",
      "Superior Completo          37.596875\n",
      "Mestrado                   39.857664\n",
      "Doutorado                  41.747253\n",
      "Aperfeiçoamento            41.782609\n",
      "Pós-Graduação              42.983858\n",
      "Especialização             43.380368\n",
      "Pós-Doutorado              47.333333\n",
      "Alfabetizado               52.557093\n",
      "Analfabeto                 54.236629\n",
      "Semianalfabeto             54.531818\n",
      "Name: idade, dtype: float64\n"
     ]
    }
   ],
   "source": [
    "media_idade_por_esc = df.groupby('escolaridade_condensada')['idade'].mean().sort_values()\n",
    "print(media_idade_por_esc)"
   ]
  },
  {
   "cell_type": "code",
   "execution_count": 57,
   "metadata": {},
   "outputs": [
    {
     "data": {
      "image/png": "[encoded data removed]",
      "text/plain": [
       "<Figure size 640x480 with 1 Axes>"
      ]
     },
     "metadata": {},
     "output_type": "display_data"
    }
   ],
   "source": [
    "\n",
    "df.groupby('escolaridade_condensada')['idade'].mean().sort_values().plot.bar()\n",
    "plt.title('Média de idade por nível de escolaridade')\n",
    "plt.xlabel(None)\n",
    "plt.show()"
   ]
  },
  {
   "cell_type": "markdown",
   "metadata": {},
   "source": [
    "#### Perfil de raça"
   ]
  },
  {
   "cell_type": "markdown",
   "metadata": {},
   "source": [
    "Se tratando de raça e cor observamos que **mais da metade dos trabalhadores** se identificam como **Pardos (62,82%)** seguidos de Brancos e Negros."
   ]
  },
  {
   "cell_type": "code",
   "execution_count": 80,
   "metadata": {},
   "outputs": [
    {
     "name": "stdout",
     "output_type": "stream",
     "text": [
      "   Raça/Cor  Número de Emissões  Percentual de Emissões\n",
      "0     Pardo              291442               62.820795\n",
      "1    Branco              110587               23.837207\n",
      "2     Negro               56980               12.282131\n",
      "3   Amarelo                3406                0.734169\n",
      "4  Indígena                1511                0.325698\n"
     ]
    }
   ],
   "source": [
    "# Calcular o número de emissões por raça/cor\n",
    "emissoes_por_raca = df['raca_e_cor'].value_counts().reset_index()\n",
    "emissoes_por_raca.columns = ['Raça/Cor', 'Número de Emissões']\n",
    "\n",
    "# Calcular o percentual de emissões por raça/cor\n",
    "total_emissoes = len(df)\n",
    "emissoes_por_raca['Percentual de Emissões'] = (emissoes_por_raca['Número de Emissões'] / total_emissoes) * 100\n",
    "\n",
    "print(emissoes_por_raca)"
   ]
  },
  {
   "cell_type": "code",
   "execution_count": 83,
   "metadata": {},
   "outputs": [
    {
     "data": {
      "image/png": "[encoded data removed]",
      "text/plain": [
       "<Figure size 640x480 with 1 Axes>"
      ]
     },
     "metadata": {},
     "output_type": "display_data"
    }
   ],
   "source": [
    "df['raca_e_cor'].value_counts().plot.bar()\n",
    "plt.title('Emissões de CTPS raça e cor')\n",
    "plt.xlabel(None)\n",
    "plt.show()"
   ]
  },
  {
   "cell_type": "markdown",
   "metadata": {},
   "source": [
    "#### Perfil do estado civil"
   ]
  },
  {
   "cell_type": "markdown",
   "metadata": {},
   "source": [
    "Os solteiros estão entre os que mais solicitaram emissões de CTPS no ano de 2020 representando mais de **80%** das carteiras emitidas no ano com quase **400.000** emissões."
   ]
  },
  {
   "cell_type": "code",
   "execution_count": 84,
   "metadata": {},
   "outputs": [
    {
     "name": "stdout",
     "output_type": "stream",
     "text": [
      "  Estado Civil  Número de Emissões  Percentual de Emissões\n",
      "0     SOLTEIRO              398800               85.961985\n",
      "1       CASADO               53221               11.471873\n",
      "2   DIVORCIADO               10110                2.179227\n",
      "3        VIÚVO                1132                0.244004\n",
      "4   SEPARADO J                 663                0.142911\n"
     ]
    }
   ],
   "source": [
    "# Calcular o número de emissões por raça/cor\n",
    "emissoes_estado_civil = df['estado_civil'].value_counts().reset_index()\n",
    "emissoes_estado_civil.columns = ['Estado Civil', 'Número de Emissões']\n",
    "\n",
    "# Calcular o percentual de emissões por raça/cor\n",
    "total_emissoes = len(df)\n",
    "emissoes_estado_civil['Percentual de Emissões'] = (emissoes_estado_civil['Número de Emissões'] / total_emissoes) * 100\n",
    "\n",
    "print(emissoes_estado_civil)"
   ]
  },
  {
   "cell_type": "code",
   "execution_count": 85,
   "metadata": {},
   "outputs": [
    {
     "data": {
      "image/png": "[encoded data removed]",
      "text/plain": [
       "<Figure size 640x480 with 1 Axes>"
      ]
     },
     "metadata": {},
     "output_type": "display_data"
    }
   ],
   "source": [
    "df['estado_civil'].value_counts().plot.bar()\n",
    "plt.title('Emissões de CTPS estado civil')\n",
    "plt.xlabel(None)\n",
    "plt.show()"
   ]
  },
  {
   "cell_type": "markdown",
   "metadata": {},
   "source": [
    "#### Análise número de emissões"
   ]
  },
  {
   "cell_type": "markdown",
   "metadata": {},
   "source": [
    "Vamos analisar também qual o número de emissões para 1ª via e 2ª via da Carteira de Trabalho.\n",
    "\n",
    "Como esperado temos um maior número de carterias sendo emitidas pela primeria vez, totalizando **336.877** carteiras contra **127.061** emissões para 2ª via."
   ]
  },
  {
   "cell_type": "code",
   "execution_count": 58,
   "metadata": {},
   "outputs": [
    {
     "name": "stdout",
     "output_type": "stream",
     "text": [
      "Número de emissões por via: \n",
      "tipo_protocolo\n",
      "1ª Via    336869\n",
      "2ª Via    127057\n",
      "Name: count, dtype: int64\n"
     ]
    }
   ],
   "source": [
    "emissao_por_via = df.tipo_protocolo.value_counts()\n",
    "print('Número de emissões por via: ')\n",
    "print(emissao_por_via)"
   ]
  },
  {
   "cell_type": "code",
   "execution_count": 59,
   "metadata": {},
   "outputs": [
    {
     "data": {
      "image/png": "[encoded data removed]",
      "text/plain": [
       "<Figure size 640x480 with 1 Axes>"
      ]
     },
     "metadata": {},
     "output_type": "display_data"
    }
   ],
   "source": [
    "df['tipo_protocolo'].value_counts().plot.bar()\n",
    "plt.title('Emissões de CTPS por protocolo')\n",
    "plt.xlabel(None)\n",
    "plt.show()"
   ]
  },
  {
   "cell_type": "markdown",
   "metadata": {},
   "source": [
    "Em relação a distribuição de carteiras emitidas por estado podemos observar que as emissões se concentram nos estados de Minas Gerais (MG), Rio de Janeiro (RJ) e Bahia (BA) totalizando 47,04% e que aproximadamente 70% de todas as carteiras de trabalho emitidas em 2020 abrangem seis estados, além dos já citados temos também Paraná (PR), Pernambuco (PE) e o estado do Pará (PA)."
   ]
  },
  {
   "cell_type": "code",
   "execution_count": 60,
   "metadata": {},
   "outputs": [
    {
     "name": "stdout",
     "output_type": "stream",
     "text": [
      "    UF  Número de Emissões  Percentual de Emissões\n",
      "0   MG               81148               17.491583\n",
      "1   RJ               68988               14.870475\n",
      "2   BA               68023               14.662468\n",
      "3   PR               37186                8.015502\n",
      "4   PE               32757                7.060824\n",
      "5   PA               31121                6.708182\n",
      "6   GO               23878                5.146942\n",
      "7   MA               20390                4.395097\n",
      "8   CE               18399                3.965934\n",
      "9   MS               14329                3.088639\n",
      "10  AM               13127                2.829546\n",
      "11  PI                8651                1.864737\n",
      "12  RO                7427                1.600902\n",
      "13  SE                6854                1.477391\n",
      "14  MT                6166                1.329091\n",
      "15  ES                5394                1.162685\n",
      "16  RR                4402                0.948858\n",
      "17  AL                4395                0.947349\n",
      "18  RN                2206                0.475507\n",
      "19  PB                2061                0.444252\n",
      "20  TO                1932                0.416446\n",
      "21  AC                1899                0.409333\n",
      "22  SP                1735                0.373982\n",
      "23  SC                 941                0.202834\n",
      "24  RS                 348                0.075012\n",
      "25  DF                 123                0.026513\n",
      "26  AP                  46                0.009915\n"
     ]
    }
   ],
   "source": [
    "# Calcular o número de emissões por UF\n",
    "emissoes_por_uf = df['uf_emissao'].value_counts().reset_index()\n",
    "emissoes_por_uf.columns = ['UF', 'Número de Emissões']\n",
    "\n",
    "# Calcular o percentual de emissões por UF\n",
    "total_emissoes = len(df)\n",
    "emissoes_por_uf['Percentual de Emissões'] = (emissoes_por_uf['Número de Emissões'] / total_emissoes) * 100\n",
    "\n",
    "print(emissoes_por_uf)"
   ]
  },
  {
   "cell_type": "code",
   "execution_count": 61,
   "metadata": {},
   "outputs": [
    {
     "data": {
      "image/png": "[encoded data removed]",
      "text/plain": [
       "<Figure size 640x480 with 1 Axes>"
      ]
     },
     "metadata": {},
     "output_type": "display_data"
    }
   ],
   "source": [
    "df['uf_emissao'].value_counts().plot.bar()\n",
    "plt.title('Emissões de CTPS por estado')\n",
    "plt.xlabel(None)\n",
    "plt.show()"
   ]
  },
  {
   "cell_type": "code",
   "execution_count": 66,
   "metadata": {},
   "outputs": [],
   "source": [
    "# criando uma coluna mes para fazer as análises de distribuição por mês\n",
    "df['mes'] = df['data_emissao'].dt.month"
   ]
  },
  {
   "cell_type": "markdown",
   "metadata": {},
   "source": [
    "Os meses que possuem maior concentração no número de emissões são **Janeiro, Fevereiro e Março**. \n",
    "\n",
    "Este resultado já era esperado visto que em março de 2020 foi decretado o início da pandemia de Covid e início das medidas de isolamento social e suspensão de serviços não essenciais aos cidadãos."
   ]
  },
  {
   "cell_type": "code",
   "execution_count": 68,
   "metadata": {},
   "outputs": [
    {
     "data": {
      "text/plain": [
       "mes\n",
       "1     224823\n",
       "2     154379\n",
       "3      63340\n",
       "4       2350\n",
       "5       2029\n",
       "6       1943\n",
       "7       2755\n",
       "8       3480\n",
       "9       3572\n",
       "10      2281\n",
       "11      1759\n",
       "12      1215\n",
       "dtype: int64"
      ]
     },
     "execution_count": 68,
     "metadata": {},
     "output_type": "execute_result"
    }
   ],
   "source": [
    "df.groupby('mes').size()"
   ]
  },
  {
   "cell_type": "code",
   "execution_count": 76,
   "metadata": {},
   "outputs": [
    {
     "data": {
      "image/png": "[encoded data removed]",
      "text/plain": [
       "<Figure size 640x480 with 1 Axes>"
      ]
     },
     "metadata": {},
     "output_type": "display_data"
    }
   ],
   "source": [
    "df.groupby('mes').size().plot.bar()\n",
    "plt.title('Emissões de CTPS por mês')\n",
    "plt.xlabel(None)\n",
    "plt.show()"
   ]
  },
  {
   "cell_type": "markdown",
   "metadata": {},
   "source": [
    "## Conclusões\n",
    "Ao realizar esta análise foi constatado que foram emitidas aproximadamente 464 mil carteiras de trabalho no ano de 2020 e os meses com maior número de emissões foram de Janeiro a Março de 2020, o que já era esperado devido ao início da pandemia em meados de Março.\n",
    "\n",
    "Já os estados que mais emitiram carteira de trabalho foram Minas Gerais, Rio de Janeiro e Bahia concentrando quase 50% das emissões. Curiosamente o estado de SP, que possui a maior cidade da América Latina, ficou entre os que menos emitiram novas carteiras de trabalho.\n",
    "\n",
    "Sobre o perfil dos trabalhadores podemos dizer que a distribuição entre os gêneros é equilibrada, cerca de 90% possui até o 2º grau completo, a maior parcela é de solteiros e a raça/cor predominante é de pessoas que se declaram pardas. \n",
    "\n",
    "Já em relação a idade temos a maior concentração entre jovens na faixa de 14 a 23 anos de idade, o que também é esperado visto que é a faixa onde as pessoas costumam entrar no mercado de trabalho seja como aprendiz (abaixo de 18 anos) ou como trabalhador formal (a partir de 18 anos)."
   ]
  }
 ],
 "metadata": {
  "kernelspec": {
   "display_name": "Python 3",
   "language": "python",
   "name": "python3"
  },
  "language_info": {
   "codemirror_mode": {
    "name": "ipython",
    "version": 3
   },
   "file_extension": ".py",
   "mimetype": "text/x-python",
   "name": "python",
   "nbconvert_exporter": "python",
   "pygments_lexer": "ipython3",
   "version": "3.11.5"
  }
 },
 "nbformat": 4,
 "nbformat_minor": 2
}
